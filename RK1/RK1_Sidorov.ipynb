{
 "cells": [
  {
   "cell_type": "markdown",
   "id": "302db7b5-f6bd-4b63-a0a8-d237487fdb03",
   "metadata": {},
   "source": [
    "ИУ5-64Б Сидоров РК1 Вар. 13"
   ]
  },
  {
   "cell_type": "code",
   "execution_count": 1,
   "id": "a407f0a4-44ef-4892-99a3-320c0b0a6856",
   "metadata": {},
   "outputs": [],
   "source": [
    "import pandas as pd\n",
    "import numpy as np"
   ]
  },
  {
   "cell_type": "code",
   "execution_count": 41,
   "id": "b0acc9b8-9b36-414f-87a5-a56e333725d1",
   "metadata": {},
   "outputs": [
    {
     "data": {
      "text/html": [
       "<div>\n",
       "<style scoped>\n",
       "    .dataframe tbody tr th:only-of-type {\n",
       "        vertical-align: middle;\n",
       "    }\n",
       "\n",
       "    .dataframe tbody tr th {\n",
       "        vertical-align: top;\n",
       "    }\n",
       "\n",
       "    .dataframe thead th {\n",
       "        text-align: right;\n",
       "    }\n",
       "</style>\n",
       "<table border=\"1\" class=\"dataframe\">\n",
       "  <thead>\n",
       "    <tr style=\"text-align: right;\">\n",
       "      <th></th>\n",
       "      <th>Serial No.</th>\n",
       "      <th>GRE Score</th>\n",
       "      <th>TOEFL Score</th>\n",
       "      <th>University Rating</th>\n",
       "      <th>SOP</th>\n",
       "      <th>LOR</th>\n",
       "      <th>CGPA</th>\n",
       "      <th>Research</th>\n",
       "      <th>Chance of Admit</th>\n",
       "    </tr>\n",
       "  </thead>\n",
       "  <tbody>\n",
       "    <tr>\n",
       "      <th>0</th>\n",
       "      <td>1</td>\n",
       "      <td>337</td>\n",
       "      <td>118</td>\n",
       "      <td>4</td>\n",
       "      <td>4.5</td>\n",
       "      <td>4.5</td>\n",
       "      <td>9.65</td>\n",
       "      <td>1</td>\n",
       "      <td>0.92</td>\n",
       "    </tr>\n",
       "    <tr>\n",
       "      <th>1</th>\n",
       "      <td>2</td>\n",
       "      <td>324</td>\n",
       "      <td>107</td>\n",
       "      <td>4</td>\n",
       "      <td>4.0</td>\n",
       "      <td>4.5</td>\n",
       "      <td>8.87</td>\n",
       "      <td>1</td>\n",
       "      <td>0.76</td>\n",
       "    </tr>\n",
       "    <tr>\n",
       "      <th>2</th>\n",
       "      <td>3</td>\n",
       "      <td>316</td>\n",
       "      <td>104</td>\n",
       "      <td>3</td>\n",
       "      <td>3.0</td>\n",
       "      <td>3.5</td>\n",
       "      <td>8.00</td>\n",
       "      <td>1</td>\n",
       "      <td>0.72</td>\n",
       "    </tr>\n",
       "    <tr>\n",
       "      <th>3</th>\n",
       "      <td>4</td>\n",
       "      <td>322</td>\n",
       "      <td>110</td>\n",
       "      <td>3</td>\n",
       "      <td>3.5</td>\n",
       "      <td>2.5</td>\n",
       "      <td>8.67</td>\n",
       "      <td>1</td>\n",
       "      <td>0.80</td>\n",
       "    </tr>\n",
       "    <tr>\n",
       "      <th>4</th>\n",
       "      <td>5</td>\n",
       "      <td>314</td>\n",
       "      <td>103</td>\n",
       "      <td>2</td>\n",
       "      <td>2.0</td>\n",
       "      <td>3.0</td>\n",
       "      <td>8.21</td>\n",
       "      <td>0</td>\n",
       "      <td>0.65</td>\n",
       "    </tr>\n",
       "  </tbody>\n",
       "</table>\n",
       "</div>"
      ],
      "text/plain": [
       "   Serial No.  GRE Score  TOEFL Score  University Rating  SOP  LOR  CGPA  \\\n",
       "0           1        337          118                  4  4.5  4.5  9.65   \n",
       "1           2        324          107                  4  4.0  4.5  8.87   \n",
       "2           3        316          104                  3  3.0  3.5  8.00   \n",
       "3           4        322          110                  3  3.5  2.5  8.67   \n",
       "4           5        314          103                  2  2.0  3.0  8.21   \n",
       "\n",
       "   Research  Chance of Admit  \n",
       "0         1             0.92  \n",
       "1         1             0.76  \n",
       "2         1             0.72  \n",
       "3         1             0.80  \n",
       "4         0             0.65  "
      ]
     },
     "execution_count": 41,
     "metadata": {},
     "output_type": "execute_result"
    }
   ],
   "source": [
    "df = pd.read_csv('Admission_Predict.csv')\n",
    "df.columns = df.columns.str.strip()\n",
    "df.head()"
   ]
  },
  {
   "cell_type": "code",
   "execution_count": 43,
   "id": "4cb58fa4-609e-4092-98d5-55181850a580",
   "metadata": {},
   "outputs": [
    {
     "name": "stdout",
     "output_type": "stream",
     "text": [
      "<class 'pandas.core.frame.DataFrame'>\n",
      "RangeIndex: 400 entries, 0 to 399\n",
      "Data columns (total 9 columns):\n",
      " #   Column             Non-Null Count  Dtype  \n",
      "---  ------             --------------  -----  \n",
      " 0   Serial No.         400 non-null    int64  \n",
      " 1   GRE Score          400 non-null    int64  \n",
      " 2   TOEFL Score        400 non-null    int64  \n",
      " 3   University Rating  400 non-null    int64  \n",
      " 4   SOP                400 non-null    float64\n",
      " 5   LOR                400 non-null    float64\n",
      " 6   CGPA               400 non-null    float64\n",
      " 7   Research           400 non-null    int64  \n",
      " 8   Chance of Admit    400 non-null    float64\n",
      "dtypes: float64(4), int64(5)\n",
      "memory usage: 28.3 KB\n"
     ]
    }
   ],
   "source": [
    "df.info()"
   ]
  },
  {
   "cell_type": "code",
   "execution_count": 44,
   "id": "069d821a-e954-438b-9025-d682fa98d577",
   "metadata": {},
   "outputs": [
    {
     "name": "stdout",
     "output_type": "stream",
     "text": [
      "Serial No.           0\n",
      "GRE Score            0\n",
      "TOEFL Score          0\n",
      "University Rating    0\n",
      "SOP                  0\n",
      "LOR                  0\n",
      "CGPA                 0\n",
      "Research             0\n",
      "Chance of Admit      0\n",
      "dtype: int64\n"
     ]
    }
   ],
   "source": [
    "print(df.isnull().sum()) # пропусков нет"
   ]
  },
  {
   "cell_type": "markdown",
   "id": "82bd855c-6fdf-43e7-9893-9ec3c37a1238",
   "metadata": {},
   "source": [
    "Так как мы выяснили, что пропусков нет, то создадим 5% пропусков искусственно. Также сделаем University Raing категориальным"
   ]
  },
  {
   "cell_type": "code",
   "execution_count": 45,
   "id": "5e7aaf4f-1193-4766-8103-ebeed6840055",
   "metadata": {},
   "outputs": [],
   "source": [
    "rating_map = {\n",
    "    1: 'Very Bad',\n",
    "    2: 'Bad',\n",
    "    3: 'Normal',\n",
    "    4: 'Good',\n",
    "    5: 'Excellent'\n",
    "}\n",
    "df['University Rating'] = df['University Rating'].map(rating_map)\n",
    "for col in ['GRE Score', 'University Rating']:\n",
    "     missing_indices = df.sample(frac=0.05, random_state=52).index\n",
    "     df.loc[missing_indices, col] = np.nan"
   ]
  },
  {
   "cell_type": "code",
   "execution_count": 46,
   "id": "5a9b04b1-3fa1-46c1-8003-bd9a5143be63",
   "metadata": {},
   "outputs": [
    {
     "name": "stdout",
     "output_type": "stream",
     "text": [
      "<class 'pandas.core.frame.DataFrame'>\n",
      "RangeIndex: 400 entries, 0 to 399\n",
      "Data columns (total 9 columns):\n",
      " #   Column             Non-Null Count  Dtype  \n",
      "---  ------             --------------  -----  \n",
      " 0   Serial No.         400 non-null    int64  \n",
      " 1   GRE Score          380 non-null    float64\n",
      " 2   TOEFL Score        400 non-null    int64  \n",
      " 3   University Rating  380 non-null    object \n",
      " 4   SOP                400 non-null    float64\n",
      " 5   LOR                400 non-null    float64\n",
      " 6   CGPA               400 non-null    float64\n",
      " 7   Research           400 non-null    int64  \n",
      " 8   Chance of Admit    400 non-null    float64\n",
      "dtypes: float64(5), int64(3), object(1)\n",
      "memory usage: 28.3+ KB\n"
     ]
    }
   ],
   "source": [
    "df.info() #проверячем создание пропусков"
   ]
  },
  {
   "cell_type": "code",
   "execution_count": 47,
   "id": "e09e5ae5-74e2-4479-a20b-915a2854476c",
   "metadata": {},
   "outputs": [
    {
     "name": "stdout",
     "output_type": "stream",
     "text": [
      "5-й перцентиль (q_05): 298.0\n",
      "95-й перцентиль (q_95): 335.05\n",
      "Количество значений между 5% и 95% квантилями: 336\n",
      "Отсеченное среднее для GRE Score: 317.17857142857144\n",
      "Мода для University Rating: Normal\n"
     ]
    }
   ],
   "source": [
    "# Заменим пропуски в GRE Score усеченным средним\n",
    "q_05 = df['GRE Score'].dropna().quantile(0.05)\n",
    "q_95 = df['GRE Score'].dropna().quantile(0.95)\n",
    "print(f\"5-й перцентиль (q_05): {q_05}\")\n",
    "print(f\"95-й перцентиль (q_95): {q_95}\")\n",
    "filtr_data = df[(df['GRE Score'] > q_05) & (df['GRE Score'] < q_95)]['GRE Score']\n",
    "print(f\"Количество значений между 5% и 95% квантилями: {len(filtr_data)}\")\n",
    "filtr_data_mean = filtr_data.mean()\n",
    "print(f\"Отсеченное среднее для GRE Score: {filtr_data_mean}\")\n",
    "df['GRE Score'] = df['GRE Score'].fillna(filtr_data_mean)\n",
    "\n",
    "# Заменим пропуски в University Rating модой\n",
    "mode_rating = df['University Rating'].mode()[0]\n",
    "print(f\"Мода для University Rating: {mode_rating}\")\n",
    "df['University Rating'] = df['University Rating'].fillna(mode_rating)"
   ]
  },
  {
   "cell_type": "code",
   "execution_count": 48,
   "id": "20301e6a-18fb-40ce-bd82-776133b00e6a",
   "metadata": {},
   "outputs": [
    {
     "name": "stdout",
     "output_type": "stream",
     "text": [
      "<class 'pandas.core.frame.DataFrame'>\n",
      "RangeIndex: 400 entries, 0 to 399\n",
      "Data columns (total 9 columns):\n",
      " #   Column             Non-Null Count  Dtype  \n",
      "---  ------             --------------  -----  \n",
      " 0   Serial No.         400 non-null    int64  \n",
      " 1   GRE Score          400 non-null    float64\n",
      " 2   TOEFL Score        400 non-null    int64  \n",
      " 3   University Rating  400 non-null    object \n",
      " 4   SOP                400 non-null    float64\n",
      " 5   LOR                400 non-null    float64\n",
      " 6   CGPA               400 non-null    float64\n",
      " 7   Research           400 non-null    int64  \n",
      " 8   Chance of Admit    400 non-null    float64\n",
      "dtypes: float64(5), int64(3), object(1)\n",
      "memory usage: 28.3+ KB\n"
     ]
    }
   ],
   "source": [
    "df.info()"
   ]
  },
  {
   "cell_type": "code",
   "execution_count": 49,
   "id": "dc0af999-d595-48a8-9dea-acaaa2626d31",
   "metadata": {},
   "outputs": [
    {
     "data": {
      "image/png": "[encoded data removed]",
      "text/plain": [
       "<Figure size 800x600 with 1 Axes>"
      ]
     },
     "metadata": {},
     "output_type": "display_data"
    }
   ],
   "source": [
    "# Boxplot для TOEFL Score\n",
    "import matplotlib.pyplot as plt\n",
    "import seaborn as sns\n",
    "plt.figure(figsize=(8, 6))\n",
    "sns.violinplot(y=df['TOEFL Score'])\n",
    "plt.title('Распределение')\n",
    "plt.ylabel('Баллы TOEFL')\n",
    "plt.show()"
   ]
  },
  {
   "cell_type": "markdown",
   "id": "cd0b5ed7-73c9-4b5a-b8c0-eb06dda20683",
   "metadata": {},
   "source": [
    "Далее для построения моделей машинного обучения я буду использовать все признаки(после преобразования University Rating обратно в числовой). В столбцах признаков нет пропусков, они являются числовыми и согласно моему представлению о поступлении в магистратуру все эти признаки так или иначе имеют влияние на шанс поступления."
   ]
  }
 ],
 "metadata": {
  "kernelspec": {
   "display_name": "Python 3",
   "language": "python",
   "name": "python3"
  },
  "language_info": {
   "codemirror_mode": {
    "name": "ipython",
    "version": 3
   },
   "file_extension": ".py",
   "mimetype": "text/x-python",
   "name": "python",
   "nbconvert_exporter": "python",
   "pygments_lexer": "ipython3",
   "version": "3.12.6"
  }
 },
 "nbformat": 4,
 "nbformat_minor": 5
}
